{
 "cells": [
  {
   "cell_type": "code",
   "execution_count": 3,
   "metadata": {},
   "outputs": [],
   "source": [
    "import pandas as pd\n",
    "import numpy as np\n",
    "import matplotlib.pyplot as plt\n",
    "import seaborn as sns\n",
    "import re\n",
    "import os\n",
    "from clean_data import clean_portfolio, clean_profile, convert_to_datetime\n",
    "from clean_data import clean_transcript, create_offeranalysis_dataset\n",
    "from exploratory_data_analysis import *\n",
    "from joblib import dump, load\n",
    "\n",
    "from sklearn.linear_model import LogisticRegression\n",
    "from sklearn.ensemble import RandomForestClassifier\n",
    "from sklearn.svm import SVC\n",
    "\n",
    "from sklearn.preprocessing import MinMaxScaler\n",
    "from sklearn.metrics import accuracy_score, f1_score\n",
    "from sklearn.model_selection import GridSearchCV \n",
    "from sklearn.model_selection import train_test_split\n",
    "from sklearn.metrics import fbeta_score, make_scorer\n",
    "from mlxtend.plotting import plot_confusion_matrix\n",
    "from sklearn.metrics import classification_report, confusion_matrix\n",
    "%matplotlib inline"
   ]
  },
  {
   "cell_type": "code",
   "execution_count": 4,
   "metadata": {},
   "outputs": [
    {
     "data": {
      "text/html": [
       "<div>\n",
       "<style scoped>\n",
       "    .dataframe tbody tr th:only-of-type {\n",
       "        vertical-align: middle;\n",
       "    }\n",
       "\n",
       "    .dataframe tbody tr th {\n",
       "        vertical-align: top;\n",
       "    }\n",
       "\n",
       "    .dataframe thead th {\n",
       "        text-align: right;\n",
       "    }\n",
       "</style>\n",
       "<table border=\"1\" class=\"dataframe\">\n",
       "  <thead>\n",
       "    <tr style=\"text-align: right;\">\n",
       "      <th></th>\n",
       "      <th>offerid</th>\n",
       "      <th>totalamount</th>\n",
       "      <th>offersuccessful</th>\n",
       "      <th>difficulty</th>\n",
       "      <th>durationdays</th>\n",
       "      <th>reward</th>\n",
       "      <th>bogo</th>\n",
       "      <th>discount</th>\n",
       "      <th>informational</th>\n",
       "      <th>mobile</th>\n",
       "      <th>...</th>\n",
       "      <th>[10, 20)</th>\n",
       "      <th>[20, 30)</th>\n",
       "      <th>[30, 40)</th>\n",
       "      <th>[40, 50)</th>\n",
       "      <th>[50, 60)</th>\n",
       "      <th>[60, 70)</th>\n",
       "      <th>[70, 80)</th>\n",
       "      <th>[80, 90)</th>\n",
       "      <th>[90, 100)</th>\n",
       "      <th>[100, 110)</th>\n",
       "    </tr>\n",
       "  </thead>\n",
       "  <tbody>\n",
       "    <tr>\n",
       "      <th>0</th>\n",
       "      <td>9b98b8c7a33c4b65b9aebfe6a799e6d9</td>\n",
       "      <td>37.67</td>\n",
       "      <td>1</td>\n",
       "      <td>5</td>\n",
       "      <td>7</td>\n",
       "      <td>5</td>\n",
       "      <td>1</td>\n",
       "      <td>0</td>\n",
       "      <td>0</td>\n",
       "      <td>1</td>\n",
       "      <td>...</td>\n",
       "      <td>0</td>\n",
       "      <td>0</td>\n",
       "      <td>0</td>\n",
       "      <td>0</td>\n",
       "      <td>0</td>\n",
       "      <td>0</td>\n",
       "      <td>1</td>\n",
       "      <td>0</td>\n",
       "      <td>0</td>\n",
       "      <td>0</td>\n",
       "    </tr>\n",
       "    <tr>\n",
       "      <th>1</th>\n",
       "      <td>4d5c57ea9a6940dd891ad53e9dbe8da0</td>\n",
       "      <td>48.31</td>\n",
       "      <td>1</td>\n",
       "      <td>10</td>\n",
       "      <td>5</td>\n",
       "      <td>10</td>\n",
       "      <td>1</td>\n",
       "      <td>0</td>\n",
       "      <td>0</td>\n",
       "      <td>1</td>\n",
       "      <td>...</td>\n",
       "      <td>0</td>\n",
       "      <td>0</td>\n",
       "      <td>0</td>\n",
       "      <td>0</td>\n",
       "      <td>1</td>\n",
       "      <td>0</td>\n",
       "      <td>0</td>\n",
       "      <td>0</td>\n",
       "      <td>0</td>\n",
       "      <td>0</td>\n",
       "    </tr>\n",
       "    <tr>\n",
       "      <th>2</th>\n",
       "      <td>5a8bc65990b245e5a138643cd4eb9837</td>\n",
       "      <td>23.43</td>\n",
       "      <td>0</td>\n",
       "      <td>0</td>\n",
       "      <td>3</td>\n",
       "      <td>0</td>\n",
       "      <td>0</td>\n",
       "      <td>0</td>\n",
       "      <td>1</td>\n",
       "      <td>1</td>\n",
       "      <td>...</td>\n",
       "      <td>0</td>\n",
       "      <td>0</td>\n",
       "      <td>0</td>\n",
       "      <td>1</td>\n",
       "      <td>0</td>\n",
       "      <td>0</td>\n",
       "      <td>0</td>\n",
       "      <td>0</td>\n",
       "      <td>0</td>\n",
       "      <td>0</td>\n",
       "    </tr>\n",
       "    <tr>\n",
       "      <th>3</th>\n",
       "      <td>9b98b8c7a33c4b65b9aebfe6a799e6d9</td>\n",
       "      <td>52.24</td>\n",
       "      <td>0</td>\n",
       "      <td>5</td>\n",
       "      <td>7</td>\n",
       "      <td>5</td>\n",
       "      <td>1</td>\n",
       "      <td>0</td>\n",
       "      <td>0</td>\n",
       "      <td>1</td>\n",
       "      <td>...</td>\n",
       "      <td>0</td>\n",
       "      <td>0</td>\n",
       "      <td>0</td>\n",
       "      <td>0</td>\n",
       "      <td>0</td>\n",
       "      <td>0</td>\n",
       "      <td>1</td>\n",
       "      <td>0</td>\n",
       "      <td>0</td>\n",
       "      <td>0</td>\n",
       "    </tr>\n",
       "    <tr>\n",
       "      <th>4</th>\n",
       "      <td>fafdcd668e3743c1bb461111dcafc2a4</td>\n",
       "      <td>5.12</td>\n",
       "      <td>0</td>\n",
       "      <td>10</td>\n",
       "      <td>10</td>\n",
       "      <td>2</td>\n",
       "      <td>0</td>\n",
       "      <td>1</td>\n",
       "      <td>0</td>\n",
       "      <td>1</td>\n",
       "      <td>...</td>\n",
       "      <td>0</td>\n",
       "      <td>0</td>\n",
       "      <td>1</td>\n",
       "      <td>0</td>\n",
       "      <td>0</td>\n",
       "      <td>0</td>\n",
       "      <td>0</td>\n",
       "      <td>0</td>\n",
       "      <td>0</td>\n",
       "      <td>0</td>\n",
       "    </tr>\n",
       "  </tbody>\n",
       "</table>\n",
       "<p>5 rows × 30 columns</p>\n",
       "</div>"
      ],
      "text/plain": [
       "                            offerid  totalamount  offersuccessful  difficulty  \\\n",
       "0  9b98b8c7a33c4b65b9aebfe6a799e6d9        37.67                1           5   \n",
       "1  4d5c57ea9a6940dd891ad53e9dbe8da0        48.31                1          10   \n",
       "2  5a8bc65990b245e5a138643cd4eb9837        23.43                0           0   \n",
       "3  9b98b8c7a33c4b65b9aebfe6a799e6d9        52.24                0           5   \n",
       "4  fafdcd668e3743c1bb461111dcafc2a4         5.12                0          10   \n",
       "\n",
       "   durationdays  reward  bogo  discount  informational  mobile  ...  [10, 20)  \\\n",
       "0             7       5     1         0              0       1  ...         0   \n",
       "1             5      10     1         0              0       1  ...         0   \n",
       "2             3       0     0         0              1       1  ...         0   \n",
       "3             7       5     1         0              0       1  ...         0   \n",
       "4            10       2     0         1              0       1  ...         0   \n",
       "\n",
       "   [20, 30)  [30, 40)  [40, 50)  [50, 60)  [60, 70)  [70, 80)  [80, 90)  \\\n",
       "0         0         0         0         0         0         1         0   \n",
       "1         0         0         0         1         0         0         0   \n",
       "2         0         0         1         0         0         0         0   \n",
       "3         0         0         0         0         0         1         0   \n",
       "4         0         1         0         0         0         0         0   \n",
       "\n",
       "   [90, 100)  [100, 110)  \n",
       "0          0           0  \n",
       "1          0           0  \n",
       "2          0           0  \n",
       "3          0           0  \n",
       "4          0           0  \n",
       "\n",
       "[5 rows x 30 columns]"
      ]
     },
     "execution_count": 4,
     "metadata": {},
     "output_type": "execute_result"
    }
   ],
   "source": [
    "clean_data_csvfile = \"./data/clean_data.csv\"\n",
    "\n",
    "if os.path.exists(clean_data_csvfile):\n",
    "    clean_data = pd.read_csv(clean_data_csvfile)\n",
    "else:\n",
    "    clean_data = create_offeranalysis_dataset(profile,\n",
    "                                              portfolio,\n",
    "                                              offer_data,\n",
    "                                              transaction)\n",
    "\n",
    "    clean_data.to_csv(clean_data_csvfile, index=False)\n",
    "    \n",
    "clean_data = clean_data.drop(columns=['time',\n",
    "                                      'customerid',\n",
    "                                      'email'])\n",
    "\n",
    "column_ordering = ['offerid', 'totalamount']\n",
    "column_ordering.extend([elem for elem in clean_data.columns if elem not in column_ordering])\n",
    "\n",
    "clean_data = clean_data[column_ordering]\n",
    "clean_data.head()"
   ]
  },
  {
   "cell_type": "markdown",
   "metadata": {},
   "source": [
    "### Split data"
   ]
  },
  {
   "cell_type": "code",
   "execution_count": 5,
   "metadata": {},
   "outputs": [],
   "source": [
    "random_state = 3154220327\n",
    "\n",
    "class_label_name = 'offersuccessful'\n",
    "\n",
    "variables = clean_data.drop(columns=[class_label_name])\n",
    "class_label = clean_data.filter([class_label_name])\n",
    "\n",
    "(X_train,\n",
    " X_test,\n",
    " y_train,\n",
    " y_test) = train_test_split(variables.values,\n",
    "                            class_label.values,\n",
    "                            test_size=0.2,\n",
    "                            random_state=random_state)\n",
    "\n",
    "variable_names = variables.columns[2:]\n",
    "\n",
    "offerid_train = X_train[:, 0]\n",
    "totalamount_train = X_train[:, 1]\n",
    "X_train = X_train[:, 2:].astype('float64')\n",
    "\n",
    "offerid_test = X_test[:, 0]\n",
    "totalamount_test = X_test[:, 1]\n",
    "X_test = X_test[:, 2:].astype('float64')\n",
    "\n",
    "y_train = y_train.ravel()\n",
    "y_test = y_test.ravel()"
   ]
  },
  {
   "cell_type": "code",
   "execution_count": 6,
   "metadata": {
    "scrolled": true
   },
   "outputs": [
    {
     "name": "stdout",
     "output_type": "stream",
     "text": [
      "Index(['difficulty', 'durationdays', 'reward', 'bogo', 'discount',\n",
      "       'informational', 'mobile', 'social', 'web', 'gender', 'income', '2013',\n",
      "       '2014', '2015', '2016', '2017', '2018', '[10, 20)', '[20, 30)',\n",
      "       '[30, 40)', '[40, 50)', '[50, 60)', '[60, 70)', '[70, 80)', '[80, 90)',\n",
      "       '[90, 100)', '[100, 110)'],\n",
      "      dtype='object')\n"
     ]
    }
   ],
   "source": [
    "print(variable_names)"
   ]
  },
  {
   "cell_type": "code",
   "execution_count": 7,
   "metadata": {},
   "outputs": [
    {
     "data": {
      "text/html": [
       "<div>\n",
       "<style scoped>\n",
       "    .dataframe tbody tr th:only-of-type {\n",
       "        vertical-align: middle;\n",
       "    }\n",
       "\n",
       "    .dataframe tbody tr th {\n",
       "        vertical-align: top;\n",
       "    }\n",
       "\n",
       "    .dataframe thead th {\n",
       "        text-align: right;\n",
       "    }\n",
       "</style>\n",
       "<table border=\"1\" class=\"dataframe\">\n",
       "  <thead>\n",
       "    <tr style=\"text-align: right;\">\n",
       "      <th></th>\n",
       "      <th>offerid</th>\n",
       "      <th>informational</th>\n",
       "      <th>gender</th>\n",
       "      <th>income</th>\n",
       "      <th>2013</th>\n",
       "      <th>2014</th>\n",
       "      <th>2015</th>\n",
       "      <th>2016</th>\n",
       "      <th>2017</th>\n",
       "      <th>2018</th>\n",
       "      <th>...</th>\n",
       "      <th>[20, 30)</th>\n",
       "      <th>[30, 40)</th>\n",
       "      <th>[40, 50)</th>\n",
       "      <th>[50, 60)</th>\n",
       "      <th>[60, 70)</th>\n",
       "      <th>[70, 80)</th>\n",
       "      <th>[80, 90)</th>\n",
       "      <th>[90, 100)</th>\n",
       "      <th>[100, 110)</th>\n",
       "      <th>offersuccessful</th>\n",
       "    </tr>\n",
       "  </thead>\n",
       "  <tbody>\n",
       "    <tr>\n",
       "      <th>0</th>\n",
       "      <td>f19421c1d4aa40978ebb69ca19b0e20d</td>\n",
       "      <td>0.0</td>\n",
       "      <td>1.0</td>\n",
       "      <td>36000.0</td>\n",
       "      <td>0.0</td>\n",
       "      <td>0.0</td>\n",
       "      <td>0.0</td>\n",
       "      <td>0.0</td>\n",
       "      <td>1.0</td>\n",
       "      <td>0.0</td>\n",
       "      <td>...</td>\n",
       "      <td>0.0</td>\n",
       "      <td>0.0</td>\n",
       "      <td>0.0</td>\n",
       "      <td>0.0</td>\n",
       "      <td>1.0</td>\n",
       "      <td>0.0</td>\n",
       "      <td>0.0</td>\n",
       "      <td>0.0</td>\n",
       "      <td>0.0</td>\n",
       "      <td>1</td>\n",
       "    </tr>\n",
       "    <tr>\n",
       "      <th>1</th>\n",
       "      <td>ae264e3637204a6fb9bb56bc8210ddfd</td>\n",
       "      <td>0.0</td>\n",
       "      <td>0.0</td>\n",
       "      <td>110000.0</td>\n",
       "      <td>0.0</td>\n",
       "      <td>0.0</td>\n",
       "      <td>0.0</td>\n",
       "      <td>0.0</td>\n",
       "      <td>0.0</td>\n",
       "      <td>1.0</td>\n",
       "      <td>...</td>\n",
       "      <td>0.0</td>\n",
       "      <td>0.0</td>\n",
       "      <td>0.0</td>\n",
       "      <td>0.0</td>\n",
       "      <td>0.0</td>\n",
       "      <td>0.0</td>\n",
       "      <td>1.0</td>\n",
       "      <td>0.0</td>\n",
       "      <td>0.0</td>\n",
       "      <td>0</td>\n",
       "    </tr>\n",
       "    <tr>\n",
       "      <th>2</th>\n",
       "      <td>ae264e3637204a6fb9bb56bc8210ddfd</td>\n",
       "      <td>0.0</td>\n",
       "      <td>0.0</td>\n",
       "      <td>114000.0</td>\n",
       "      <td>0.0</td>\n",
       "      <td>0.0</td>\n",
       "      <td>0.0</td>\n",
       "      <td>0.0</td>\n",
       "      <td>1.0</td>\n",
       "      <td>0.0</td>\n",
       "      <td>...</td>\n",
       "      <td>0.0</td>\n",
       "      <td>0.0</td>\n",
       "      <td>0.0</td>\n",
       "      <td>1.0</td>\n",
       "      <td>0.0</td>\n",
       "      <td>0.0</td>\n",
       "      <td>0.0</td>\n",
       "      <td>0.0</td>\n",
       "      <td>0.0</td>\n",
       "      <td>1</td>\n",
       "    </tr>\n",
       "    <tr>\n",
       "      <th>3</th>\n",
       "      <td>fafdcd668e3743c1bb461111dcafc2a4</td>\n",
       "      <td>0.0</td>\n",
       "      <td>0.0</td>\n",
       "      <td>67000.0</td>\n",
       "      <td>0.0</td>\n",
       "      <td>0.0</td>\n",
       "      <td>1.0</td>\n",
       "      <td>0.0</td>\n",
       "      <td>0.0</td>\n",
       "      <td>0.0</td>\n",
       "      <td>...</td>\n",
       "      <td>0.0</td>\n",
       "      <td>0.0</td>\n",
       "      <td>0.0</td>\n",
       "      <td>0.0</td>\n",
       "      <td>1.0</td>\n",
       "      <td>0.0</td>\n",
       "      <td>0.0</td>\n",
       "      <td>0.0</td>\n",
       "      <td>0.0</td>\n",
       "      <td>1</td>\n",
       "    </tr>\n",
       "    <tr>\n",
       "      <th>4</th>\n",
       "      <td>0b1e1539f2cc45b7b9fa7c272da2e1d7</td>\n",
       "      <td>0.0</td>\n",
       "      <td>1.0</td>\n",
       "      <td>31000.0</td>\n",
       "      <td>0.0</td>\n",
       "      <td>0.0</td>\n",
       "      <td>0.0</td>\n",
       "      <td>0.0</td>\n",
       "      <td>1.0</td>\n",
       "      <td>0.0</td>\n",
       "      <td>...</td>\n",
       "      <td>0.0</td>\n",
       "      <td>0.0</td>\n",
       "      <td>1.0</td>\n",
       "      <td>0.0</td>\n",
       "      <td>0.0</td>\n",
       "      <td>0.0</td>\n",
       "      <td>0.0</td>\n",
       "      <td>0.0</td>\n",
       "      <td>0.0</td>\n",
       "      <td>0</td>\n",
       "    </tr>\n",
       "  </tbody>\n",
       "</table>\n",
       "<p>5 rows × 21 columns</p>\n",
       "</div>"
      ],
      "text/plain": [
       "                            offerid  informational  gender    income  2013  \\\n",
       "0  f19421c1d4aa40978ebb69ca19b0e20d            0.0     1.0   36000.0   0.0   \n",
       "1  ae264e3637204a6fb9bb56bc8210ddfd            0.0     0.0  110000.0   0.0   \n",
       "2  ae264e3637204a6fb9bb56bc8210ddfd            0.0     0.0  114000.0   0.0   \n",
       "3  fafdcd668e3743c1bb461111dcafc2a4            0.0     0.0   67000.0   0.0   \n",
       "4  0b1e1539f2cc45b7b9fa7c272da2e1d7            0.0     1.0   31000.0   0.0   \n",
       "\n",
       "   2014  2015  2016  2017  2018  ...  [20, 30)  [30, 40)  [40, 50)  [50, 60)  \\\n",
       "0   0.0   0.0   0.0   1.0   0.0  ...       0.0       0.0       0.0       0.0   \n",
       "1   0.0   0.0   0.0   0.0   1.0  ...       0.0       0.0       0.0       0.0   \n",
       "2   0.0   0.0   0.0   1.0   0.0  ...       0.0       0.0       0.0       1.0   \n",
       "3   0.0   1.0   0.0   0.0   0.0  ...       0.0       0.0       0.0       0.0   \n",
       "4   0.0   0.0   0.0   1.0   0.0  ...       0.0       0.0       1.0       0.0   \n",
       "\n",
       "   [60, 70)  [70, 80)  [80, 90)  [90, 100)  [100, 110)  offersuccessful  \n",
       "0       1.0       0.0       0.0        0.0         0.0                1  \n",
       "1       0.0       0.0       1.0        0.0         0.0                0  \n",
       "2       0.0       0.0       0.0        0.0         0.0                1  \n",
       "3       1.0       0.0       0.0        0.0         0.0                1  \n",
       "4       0.0       0.0       0.0        0.0         0.0                0  \n",
       "\n",
       "[5 rows x 21 columns]"
      ]
     },
     "execution_count": 7,
     "metadata": {},
     "output_type": "execute_result"
    }
   ],
   "source": [
    "training_variables = pd.DataFrame(X_train, columns=variable_names)\n",
    "training_labels = pd.DataFrame(y_train, columns=[class_label_name])\n",
    "training_offerid = pd.DataFrame(offerid_train, columns=['offerid'])\n",
    "\n",
    "training_data = pd.concat([training_offerid,\n",
    "                           training_variables,\n",
    "                           training_labels], axis=1)\n",
    "\n",
    "training_data = training_data.drop(columns=['difficulty',\n",
    "                                            'durationdays',\n",
    "                                            'reward',\n",
    "                                            'bogo',\n",
    "                                            'discount',\n",
    "                                            'mobile',\n",
    "                                            'social',\n",
    "                                            'web'])\n",
    "\n",
    "training_data.head()"
   ]
  },
  {
   "cell_type": "code",
   "execution_count": 8,
   "metadata": {},
   "outputs": [],
   "source": [
    "variables_to_scale = ['difficulty', 'durationdays', 'reward', 'income']\n",
    "\n",
    "min_max_scaler = {}\n",
    "\n",
    "for idx in range(len(variables_to_scale)):\n",
    "    column_idx = np.argwhere(variable_names == variables_to_scale[idx])[0, 0]\n",
    "    \n",
    "    cur_column = variables_to_scale[idx]\n",
    "    \n",
    "    min_max_scaler[cur_column] = MinMaxScaler()\n",
    "    min_max_scaler[cur_column].fit(X_train[:, column_idx].reshape(-1, 1))\n",
    "\n",
    "    transformed_values =\\\n",
    "        min_max_scaler[cur_column].transform(X_train[:, column_idx].reshape(-1, 1))\n",
    "\n",
    "    X_train[:, column_idx] = transformed_values.reshape(1, -1)\n",
    "    \n",
    "    transformed_values =\\\n",
    "        min_max_scaler[cur_column].transform(X_test[:, column_idx].reshape(-1, 1))\n",
    "\n",
    "    X_test[:, column_idx] = transformed_values.reshape(1, -1)"
   ]
  },
  {
   "cell_type": "code",
   "execution_count": 9,
   "metadata": {},
   "outputs": [],
   "source": [
    "model_dir = \"./models\"\n",
    "if not os.path.exists(model_dir):\n",
    "    os.mkdir(model_dir)"
   ]
  },
  {
   "cell_type": "markdown",
   "metadata": {},
   "source": [
    "### Logistic Regression"
   ]
  },
  {
   "cell_type": "code",
   "execution_count": 10,
   "metadata": {},
   "outputs": [],
   "source": [
    "lr_model_path = os.path.join(model_dir, 'logistic_regression.joblib')\n",
    "\n",
    "scorer = make_scorer(fbeta_score,\n",
    "                     beta=0.5)\n",
    "\n",
    "if os.path.exists(lr_model_path):\n",
    "    lr_grid = load(lr_model_path)\n",
    "else:\n",
    "    lr_model = LogisticRegression(random_state=random_state,\n",
    "                                solver='liblinear')\n",
    "\n",
    "    lr_param_grid = {'penalty': ['l1', 'l2'],\n",
    "                   'C': [0.0001, 0.001, 0.01, 0.1, 1, 10, 100, 1000],\n",
    "                 'solver' : ['liblinear', 'saga']}\n",
    "\n",
    "    lr_grid = GridSearchCV(lr_model, lr_param_grid, verbose = 3)\n",
    "\n",
    "    lr_grid.fit(X_train, y_train)\n",
    "\n",
    "    dump(lr_grid, lr_model_path)"
   ]
  },
  {
   "cell_type": "code",
   "execution_count": 11,
   "metadata": {},
   "outputs": [
    {
     "data": {
      "text/plain": [
       "{'C': 0.1, 'penalty': 'l1', 'solver': 'saga'}"
      ]
     },
     "execution_count": 11,
     "metadata": {},
     "output_type": "execute_result"
    }
   ],
   "source": [
    "lr_grid.best_params_"
   ]
  },
  {
   "cell_type": "code",
   "execution_count": 12,
   "metadata": {},
   "outputs": [],
   "source": [
    "y_pred = lr_grid.predict(X_test)"
   ]
  },
  {
   "cell_type": "code",
   "execution_count": 13,
   "metadata": {},
   "outputs": [
    {
     "name": "stdout",
     "output_type": "stream",
     "text": [
      "[[6214 1633]\n",
      " [1643 3627]]\n",
      "              precision    recall  f1-score   support\n",
      "\n",
      "           0       0.79      0.79      0.79      7847\n",
      "           1       0.69      0.69      0.69      5270\n",
      "\n",
      "    accuracy                           0.75     13117\n",
      "   macro avg       0.74      0.74      0.74     13117\n",
      "weighted avg       0.75      0.75      0.75     13117\n",
      "\n"
     ]
    }
   ],
   "source": [
    "print(confusion_matrix(y_test,y_pred))\n",
    "print(classification_report(y_test,y_pred))"
   ]
  },
  {
   "cell_type": "code",
   "execution_count": 14,
   "metadata": {},
   "outputs": [
    {
     "data": {
      "image/png": "[encoded data removed]",
      "text/plain": [
       "<Figure size 432x288 with 2 Axes>"
      ]
     },
     "metadata": {
      "needs_background": "light"
     },
     "output_type": "display_data"
    }
   ],
   "source": [
    "cm = confusion_matrix(y_test,y_pred)\n",
    "\n",
    "fig, ax = plot_confusion_matrix(conf_mat=cm,\n",
    "                                show_absolute=True,\n",
    "                                show_normed=True,\n",
    "                                colorbar=True)\n",
    "plt.show()"
   ]
  },
  {
   "cell_type": "markdown",
   "metadata": {},
   "source": [
    "### Random Forest"
   ]
  },
  {
   "cell_type": "code",
   "execution_count": 15,
   "metadata": {},
   "outputs": [],
   "source": [
    "rf_model_path = os.path.join(model_dir, 'random_forest.joblib')\n",
    "\n",
    "if os.path.exists(rf_model_path):\n",
    "    rf_grid = load(rf_model_path)\n",
    "else:\n",
    "    rf_model = RandomForestClassifier(random_state=random_state)\n",
    "    max_features = ['auto', 'sqrt']\n",
    "    min_samples_split = [2, 5, 10]\n",
    "    min_samples_leaf = [1, 2, 4]\n",
    "    \n",
    "    rf_param_grid = {'n_estimators': [300, 350, 400, 450, 500],\n",
    "                  'max_depth': [10, 11, 12, 13, 14, 15],\n",
    "                  'max_features': max_features,\n",
    "                  'min_samples_leaf': min_samples_leaf,\n",
    "                  'min_samples_split': min_samples_split,\n",
    "                  'random_state': [random_state]}\n",
    "\n",
    "    rf_grid = GridSearchCV(rf_model, rf_param_grid, verbose=2)\n",
    "\n",
    "    rf_gird = grid_obj.fit(X_train, y_train)\n",
    "\n",
    "    dump(rf_grid, rf_model_path)"
   ]
  },
  {
   "cell_type": "code",
   "execution_count": 16,
   "metadata": {},
   "outputs": [
    {
     "data": {
      "text/plain": [
       "{'max_depth': 14,\n",
       " 'min_samples_leaf': 4,\n",
       " 'min_samples_split': 2,\n",
       " 'n_estimators': 500,\n",
       " 'random_state': 3154220327}"
      ]
     },
     "execution_count": 16,
     "metadata": {},
     "output_type": "execute_result"
    }
   ],
   "source": [
    "rf_grid.best_params_"
   ]
  },
  {
   "cell_type": "code",
   "execution_count": 17,
   "metadata": {},
   "outputs": [],
   "source": [
    "y_pred = rf_grid.predict(X_test)"
   ]
  },
  {
   "cell_type": "code",
   "execution_count": 18,
   "metadata": {},
   "outputs": [
    {
     "name": "stdout",
     "output_type": "stream",
     "text": [
      "[[6445 1402]\n",
      " [1616 3654]]\n",
      "              precision    recall  f1-score   support\n",
      "\n",
      "           0       0.80      0.82      0.81      7847\n",
      "           1       0.72      0.69      0.71      5270\n",
      "\n",
      "    accuracy                           0.77     13117\n",
      "   macro avg       0.76      0.76      0.76     13117\n",
      "weighted avg       0.77      0.77      0.77     13117\n",
      "\n"
     ]
    }
   ],
   "source": [
    "print(confusion_matrix(y_test,y_pred))\n",
    "print(classification_report(y_test,y_pred))"
   ]
  },
  {
   "cell_type": "code",
   "execution_count": 19,
   "metadata": {},
   "outputs": [
    {
     "data": {
      "image/png": "[encoded data removed]",
      "text/plain": [
       "<Figure size 432x288 with 2 Axes>"
      ]
     },
     "metadata": {
      "needs_background": "light"
     },
     "output_type": "display_data"
    }
   ],
   "source": [
    "cm = confusion_matrix(y_test,y_pred)\n",
    "\n",
    "fig, ax = plot_confusion_matrix(conf_mat=cm,\n",
    "                                show_absolute=True,\n",
    "                                show_normed=True,\n",
    "                                colorbar=True)\n",
    "plt.show()"
   ]
  },
  {
   "cell_type": "markdown",
   "metadata": {},
   "source": [
    "### Support Vector Machine"
   ]
  },
  {
   "cell_type": "code",
   "execution_count": 20,
   "metadata": {},
   "outputs": [],
   "source": [
    "svm_model_path = os.path.join(model_dir, 'support_vector_machine.joblib')   \n",
    "\n",
    "if os.path.exists(svm_model_path):\n",
    "    svm_grid = load(svm_model_path)\n",
    "else:\n",
    "    # defining parameter range \n",
    "    svm_model = SVC()\n",
    "    svm_param_grid = {'C': [0.1, 1, 10, 100, 1000], \n",
    "                'gamma': [1, 0.1, 0.01, 0.001, 0.0001], \n",
    "                'kernel': ['rbf']} \n",
    "\n",
    "    svm_grid = GridSearchCV(svm_model, svm_param_grid, refit = True, verbose = 3) \n",
    "\n",
    "    # fitting the model for grid search \n",
    "    grid.fit(X_train, y_train) \n",
    "\n",
    "    dump(svm_grid, svm_model_path)"
   ]
  },
  {
   "cell_type": "code",
   "execution_count": 21,
   "metadata": {},
   "outputs": [
    {
     "data": {
      "text/plain": [
       "{'C': 10, 'gamma': 0.1, 'kernel': 'rbf'}"
      ]
     },
     "execution_count": 21,
     "metadata": {},
     "output_type": "execute_result"
    }
   ],
   "source": [
    "svm_grid.best_params_"
   ]
  },
  {
   "cell_type": "code",
   "execution_count": 22,
   "metadata": {},
   "outputs": [],
   "source": [
    "y_pred = svm_grid.predict(X_test)"
   ]
  },
  {
   "cell_type": "code",
   "execution_count": 23,
   "metadata": {
    "scrolled": true
   },
   "outputs": [
    {
     "name": "stdout",
     "output_type": "stream",
     "text": [
      "[[6527 1320]\n",
      " [1857 3413]]\n",
      "              precision    recall  f1-score   support\n",
      "\n",
      "           0       0.78      0.83      0.80      7847\n",
      "           1       0.72      0.65      0.68      5270\n",
      "\n",
      "    accuracy                           0.76     13117\n",
      "   macro avg       0.75      0.74      0.74     13117\n",
      "weighted avg       0.76      0.76      0.76     13117\n",
      "\n"
     ]
    }
   ],
   "source": [
    "print(confusion_matrix(y_test,y_pred))\n",
    "print(classification_report(y_test,y_pred))"
   ]
  },
  {
   "cell_type": "code",
   "execution_count": 24,
   "metadata": {},
   "outputs": [
    {
     "data": {
      "image/png": "[encoded data removed]",
      "text/plain": [
       "<Figure size 432x288 with 2 Axes>"
      ]
     },
     "metadata": {
      "needs_background": "light"
     },
     "output_type": "display_data"
    }
   ],
   "source": [
    "cm = confusion_matrix(y_test,y_pred)\n",
    "\n",
    "fig, ax = plot_confusion_matrix(conf_mat=cm,\n",
    "                                show_absolute=True,\n",
    "                                show_normed=True,\n",
    "                                colorbar=True)\n",
    "plt.show()"
   ]
  },
  {
   "cell_type": "code",
   "execution_count": null,
   "metadata": {},
   "outputs": [],
   "source": []
  }
 ],
 "metadata": {
  "kernelspec": {
   "display_name": "Python 3",
   "language": "python",
   "name": "python3"
  },
  "language_info": {
   "codemirror_mode": {
    "name": "ipython",
    "version": 3
   },
   "file_extension": ".py",
   "mimetype": "text/x-python",
   "name": "python",
   "nbconvert_exporter": "python",
   "pygments_lexer": "ipython3",
   "version": "3.7.5"
  }
 },
 "nbformat": 4,
 "nbformat_minor": 2
}
